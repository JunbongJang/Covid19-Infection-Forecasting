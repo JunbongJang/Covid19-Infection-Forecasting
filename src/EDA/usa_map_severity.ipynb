{
 "cells": [
  {
   "cell_type": "code",
   "execution_count": null,
   "metadata": {
    "ExecuteTime": {
     "end_time": "2020-11-19T23:03:11.891648Z",
     "start_time": "2020-11-19T23:03:11.840146Z"
    }
   },
   "outputs": [],
   "source": [
    "from urllib.request import urlopen\n",
    "import json\n",
    "import pandas as pd\n",
    "import plotly.express as px\n",
    "import scipy.io as spio\n",
    "import numpy as np\n",
    "from plotly.offline import init_notebook_mode\n",
    "init_notebook_mode()\n",
    "\n",
    "\n",
    "from parseJohnsHopkins import getTzuHsiClusters\n",
    "from parseData import correct_county_name_from_df\n",
    "    "
   ]
  },
  {
   "cell_type": "markdown",
   "metadata": {},
   "source": [
    "# Tzu-hsi Clustering"
   ]
  },
  {
   "cell_type": "markdown",
   "metadata": {},
   "source": [
    "## Add FIPS to clusters dataset from Covid19 cases dataset"
   ]
  },
  {
   "cell_type": "code",
   "execution_count": null,
   "metadata": {
    "ExecuteTime": {
     "end_time": "2020-11-19T23:03:13.796994Z",
     "start_time": "2020-11-19T23:03:12.918338Z"
    }
   },
   "outputs": [],
   "source": [
    "# get COVID-19 cases file from asset\n",
    "file_type = 'cases'\n",
    "raw_df = pd.read_csv(f'../../assets/us_{file_type}_counties.csv', header=0, index_col=None)\n",
    "raw_df = raw_df.fillna(0)\n",
    "raw_df.sort_values(by=['State','County Name'])\n",
    "\n",
    "# create state_county column for loop optimization\n",
    "raw_df['state_county'] = raw_df[['State', 'County Name']].agg('_'.join, axis=1)\n",
    "raw_df = correct_county_name_from_df(raw_df)\n",
    "raw_df.sort_values(by=['state_county'])\n",
    "\n",
    "processed_df = raw_df[['state_county','countyFIPS']]\n",
    "state_county_to_fips = processed_df.set_index('state_county')\n",
    "state_county_to_fips = state_county_to_fips['countyFIPS']\n",
    "\n",
    "state_county_to_fips"
   ]
  },
  {
   "cell_type": "code",
   "execution_count": null,
   "metadata": {
    "ExecuteTime": {
     "end_time": "2020-11-19T23:03:14.388186Z",
     "start_time": "2020-11-19T23:03:14.368114Z"
    }
   },
   "outputs": [],
   "source": [
    "# Add the fips column to the Tsu-Hzi's Clusters dataset\n",
    "def add_fips_to_clusters_data(clusters_df):\n",
    "    \n",
    "    clusters_list = []\n",
    "    fip_list = []\n",
    "    county_name_list = []\n",
    "    for a_county in clusters_df.index.tolist():\n",
    "#         print(a_county, end ='')\n",
    "        if a_county in state_county_to_fips.index:\n",
    "            cluster_id = clusters_df[a_county]\n",
    "            fip = state_county_to_fips[a_county]\n",
    "            county_name_list.append(a_county)\n",
    "            clusters_list.append(cluster_id)\n",
    "            \n",
    "            # add leading zero to fip with 4 digits\n",
    "            if len(str(fip)) == 4:\n",
    "                fip = '0' + str(fip)\n",
    "            else:\n",
    "                fip = str(fip)\n",
    "            fip_list.append(fip)\n",
    "#             print(f' --- {fip}')\n",
    "#         else:\n",
    "#             print(a_county, ' --- skipped')\n",
    "            \n",
    "    assert len(fip_list) == len(clusters_list)\n",
    "    print(len(fip_list), 'Counties in Total')\n",
    "        \n",
    "    fips_state_county_clusters_df = pd.DataFrame(data= {'fips': fip_list, 'severity_clusters': clusters_list, 'county_name': county_name_list} )\n",
    "    return fips_state_county_clusters_df\n",
    "    "
   ]
  },
  {
   "cell_type": "markdown",
   "metadata": {},
   "source": [
    "## Draw Map"
   ]
  },
  {
   "cell_type": "code",
   "execution_count": null,
   "metadata": {
    "ExecuteTime": {
     "end_time": "2020-11-19T23:03:16.325910Z",
     "start_time": "2020-11-19T23:03:16.314390Z"
    }
   },
   "outputs": [],
   "source": [
    "# built in color scales https://plotly.com/python/builtin-colorscales/\n",
    "def show_covid19_cases_on_map(df, geojson_counties, color_map, date_info):\n",
    "    fig = px.choropleth(df,\n",
    "                        geojson=geojson_counties,\n",
    "                        locations='fips',\n",
    "                        color='severity_clusters',\n",
    "                        color_continuous_scale=color_map,\n",
    "                        scope=\"usa\",\n",
    "                        labels={'severity_clusters':'Severity'})\n",
    "    \n",
    "    fig.update_geos(showsubunits=True, subunitcolor=\"black\")\n",
    "\n",
    "    fig.update_layout(title={\n",
    "        'text': f\"Severity of COVID-19 Cases per County in {date_info}\",\n",
    "        'y':1.0,\n",
    "        'x':0.5,\n",
    "        'xanchor': 'center',\n",
    "        'yanchor': 'top'}, margin={\"r\":0,\"t\":0,\"l\":0,\"b\":0})\n",
    "\n",
    "    fig.show()"
   ]
  },
  {
   "cell_type": "code",
   "execution_count": null,
   "metadata": {
    "ExecuteTime": {
     "end_time": "2020-11-19T23:03:17.139523Z",
     "start_time": "2020-11-19T23:03:16.898784Z"
    },
    "scrolled": false
   },
   "outputs": [],
   "source": [
    "cluster_type = \"constants\"\n",
    "initial_date_list = ['3/15', '4/1', '4/15', '5/1', '5/15']\n",
    "cluster_final_date_list = ['4/30', '5/15', '5/31', '6/15', '6/30']\n",
    "\n",
    "initial_date_list = [ '4/1']\n",
    "cluster_final_date_list = ['5/15']\n",
    "\n",
    "color_map = px.colors.diverging.Portland.copy()\n",
    "color_map.reverse()\n",
    "with urlopen('https://raw.githubusercontent.com/plotly/datasets/master/geojson-counties-fips.json') as response:\n",
    "    geojson_counties = json.load(response)"
   ]
  },
  {
   "cell_type": "code",
   "execution_count": null,
   "metadata": {
    "ExecuteTime": {
     "end_time": "2020-11-19T23:03:22.538082Z",
     "start_time": "2020-11-19T23:03:17.895410Z"
    },
    "scrolled": true
   },
   "outputs": [],
   "source": [
    "for initial_date, cluster_final_date in zip(initial_date_list, cluster_final_date_list):\n",
    "    date_info = f\"{initial_date}~{cluster_final_date}\"\n",
    "\n",
    "    # load data\n",
    "    initial_clusters = getTzuHsiClusters(column_date=date_info, cluster_type=cluster_type)\n",
    "    initial_clusters = initial_clusters[initial_clusters > 0]  # remove cluster 0\n",
    "    initial_clusters[initial_clusters==2] = 1\n",
    "    initial_clusters[initial_clusters==3] = 1\n",
    "    initial_clusters[initial_clusters==4] = 2\n",
    "    initial_clusters[initial_clusters==5] = 2\n",
    "    initial_clusters[initial_clusters==6] = 2\n",
    "    initial_clusters[initial_clusters==7] = 3\n",
    "    initial_clusters[initial_clusters==8] = 3\n",
    "    initial_clusters[initial_clusters==9] = 3\n",
    "    fips_state_county_clusters_df = add_fips_to_clusters_data(initial_clusters)\n",
    "    show_covid19_cases_on_map(fips_state_county_clusters_df, geojson_counties, color_map, date_info)\n",
    "    "
   ]
  },
  {
   "cell_type": "markdown",
   "metadata": {},
   "source": [
    "# COVID19 Risk Levels"
   ]
  },
  {
   "cell_type": "code",
   "execution_count": null,
   "metadata": {
    "ExecuteTime": {
     "end_time": "2020-11-18T19:17:52.708317Z",
     "start_time": "2020-11-18T19:17:52.703854Z"
    }
   },
   "outputs": [],
   "source": [
    "def find_nan_rows(df):\n",
    "    is_NaN = df.isnull()\n",
    "    row_has_NaN = is_NaN.any(axis=1)\n",
    "    rows_with_NaN = df[row_has_NaN]\n",
    "\n",
    "    print(rows_with_NaN)\n",
    "# find_nan_rows(risk_level_df)\n",
    "\n",
    "def updateCounty(county_str):\n",
    "    county_str_list = county_str.split(', ')\n",
    "    return county_str_list[1] + '_' + county_str_list[0]\n",
    "    \n",
    "updateCounty('Abbeville County, SC')"
   ]
  },
  {
   "cell_type": "code",
   "execution_count": null,
   "metadata": {
    "ExecuteTime": {
     "end_time": "2020-11-18T19:17:55.070606Z",
     "start_time": "2020-11-18T19:17:53.351368Z"
    }
   },
   "outputs": [],
   "source": [
    "risk_level_df = pd.read_csv(f'../../assets/us_risk_levels.csv', header=0, index_col=None)\n",
    "\n",
    "# Data Processing\n",
    "# all rows except risk level\n",
    "risk_level_df = risk_level_df[risk_level_df.Metric == 'COVID-19 Risk Level']\n",
    "# remove Statewide Unallocated, Grand Princess Cruise Ship, New York City Unallocated\n",
    "\n",
    "risk_level_df = risk_level_df[~risk_level_df.County.str.contains('Statewide Unallocated')]\n",
    "risk_level_df = risk_level_df[~risk_level_df.County.str.contains('Grand Princess Cruise Ship')]\n",
    "risk_level_df = risk_level_df[~risk_level_df.County.str.contains('New York City Unallocated')]\n",
    "\n",
    "# get columns\n",
    "list_of_dates = ['04-30', '05-15', '05-31', '06-15', '06-30', '07-15', '07-30']\n",
    "list_of_dates = ['2020-' + date for date in list_of_dates]\n",
    "risk_level_df = risk_level_df[['County']+list_of_dates]\n",
    "\n",
    "# Convert Green=4, Yellow=3, Orange=2, Red=1\n",
    "risk_level_df[risk_level_df == 'Green'] = 4\n",
    "risk_level_df[risk_level_df == 'Yellow'] = 3\n",
    "risk_level_df[risk_level_df == 'Orange'] = 2\n",
    "risk_level_df[risk_level_df == 'Red'] = 1\n",
    "risk_level_df[list_of_dates] = risk_level_df[list_of_dates].astype(str).astype(int)\n",
    "\n",
    "# rename county to state_county and lowercase them\n",
    "risk_level_df.County = risk_level_df.County.apply(lambda x: updateCounty(x))\n",
    "risk_level_df = risk_level_df.rename(columns={'County': 'state_county'})\n",
    "risk_level_df = correct_county_name_from_df(risk_level_df)\n",
    "risk_level_df = risk_level_df.set_index('state_county')\n",
    "\n",
    "print(risk_level_df)\n",
    "print(risk_level_df.dtypes)\n"
   ]
  },
  {
   "cell_type": "code",
   "execution_count": null,
   "metadata": {
    "ExecuteTime": {
     "end_time": "2020-11-18T19:20:24.071433Z",
     "start_time": "2020-11-18T19:19:51.979633Z"
    },
    "scrolled": false
   },
   "outputs": [],
   "source": [
    "# Draw Map\n",
    "for a_date in list_of_dates:\n",
    "    # assign fips to each county\n",
    "    fips_state_county_clusters_df = add_fips_to_clusters_data(risk_level_df[a_date])\n",
    "    show_covid19_cases_on_map(fips_state_county_clusters_df, geojson_counties, color_map, a_date)\n"
   ]
  },
  {
   "cell_type": "code",
   "execution_count": null,
   "metadata": {
    "ExecuteTime": {
     "end_time": "2020-11-18T19:17:56.447005Z",
     "start_time": "2020-11-18T19:17:56.445131Z"
    }
   },
   "outputs": [],
   "source": [
    "\n",
    "\n"
   ]
  }
 ],
 "metadata": {
  "hide_input": false,
  "kernelspec": {
   "display_name": "tensorflow-2",
   "language": "python",
   "name": "tensorflow-2"
  },
  "language_info": {
   "codemirror_mode": {
    "name": "ipython",
    "version": 3
   },
   "file_extension": ".py",
   "mimetype": "text/x-python",
   "name": "python",
   "nbconvert_exporter": "python",
   "pygments_lexer": "ipython3",
   "version": "3.6.10"
  },
  "toc": {
   "base_numbering": 1,
   "nav_menu": {},
   "number_sections": true,
   "sideBar": true,
   "skip_h1_title": false,
   "title_cell": "Table of Contents",
   "title_sidebar": "Contents",
   "toc_cell": false,
   "toc_position": {},
   "toc_section_display": true,
   "toc_window_display": false
  },
  "varInspector": {
   "cols": {
    "lenName": 16,
    "lenType": 16,
    "lenVar": 40
   },
   "kernels_config": {
    "python": {
     "delete_cmd_postfix": "",
     "delete_cmd_prefix": "del ",
     "library": "var_list.py",
     "varRefreshCmd": "print(var_dic_list())"
    },
    "r": {
     "delete_cmd_postfix": ") ",
     "delete_cmd_prefix": "rm(",
     "library": "var_list.r",
     "varRefreshCmd": "cat(var_dic_list()) "
    }
   },
   "types_to_exclude": [
    "module",
    "function",
    "builtin_function_or_method",
    "instance",
    "_Feature"
   ],
   "window_display": false
  }
 },
 "nbformat": 4,
 "nbformat_minor": 2
}
